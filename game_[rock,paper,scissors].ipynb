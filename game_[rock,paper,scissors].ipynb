{
  "nbformat": 4,
  "nbformat_minor": 0,
  "metadata": {
    "colab": {
      "provenance": [],
      "authorship_tag": "ABX9TyM8wax3ADcYij1hCiv1hJcD",
      "include_colab_link": true
    },
    "kernelspec": {
      "name": "python3",
      "display_name": "Python 3"
    },
    "language_info": {
      "name": "python"
    }
  },
  "cells": [
    {
      "cell_type": "markdown",
      "metadata": {
        "id": "view-in-github",
        "colab_type": "text"
      },
      "source": [
        "<a href=\"https://colab.research.google.com/github/roenseed/python-save-script/blob/main/game_%5Brock%2Cpaper%2Cscissors%5D.ipynb\" target=\"_parent\"><img src=\"https://colab.research.google.com/assets/colab-badge.svg\" alt=\"Open In Colab\"/></a>"
      ]
    },
    {
      "cell_type": "code",
      "execution_count": null,
      "metadata": {
        "id": "Yhdo42RRG7D6"
      },
      "outputs": [],
      "source": [
        "# Author: Charoen Kasetruengphol\n",
        "\n",
        "import random\n",
        "\n",
        "options = (\"rock\", 'paper', 'scissors')\n",
        "running = True\n",
        "\n",
        "while running:\n",
        "\n",
        "    player = None\n",
        "    computer = random.choice(options)\n",
        "\n",
        "    while player not in options:\n",
        "        player = input(\"Enter a choice (rock, paper, scissors): \").lower()\n",
        "\n",
        "    print(f\"Player: {player}\")\n",
        "    print(f\"Computer: {computer}\")\n",
        "\n",
        "    if player == computer:\n",
        "        print(\"It's a tie!\")\n",
        "    elif player == \"rock\" and computer == \"scissors\":\n",
        "        print(\"You win!\")\n",
        "    elif player == \"paper\" and computer == \"rock\":\n",
        "        print(\"You win!\")\n",
        "    elif player == \"scissors\" and computer == \"paper\":\n",
        "        print(\"You win!\")\n",
        "    else:\n",
        "        print(\"You lose.\")\n",
        "\n",
        "    play_again = None\n",
        "    while play_again not in (\"y\", \"n\"):\n",
        "        play_again = input(\"Play again? (y/n): \").lower()\n",
        "\n",
        "    if play_again == \"n\":\n",
        "        running = False\n",
        "\n",
        "print(\"Thanks for playing!\")"
      ]
    }
  ]
}