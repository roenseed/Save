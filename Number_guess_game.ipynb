{
  "nbformat": 4,
  "nbformat_minor": 0,
  "metadata": {
    "colab": {
      "provenance": [],
      "authorship_tag": "ABX9TyMlyMz9PxUQjpz8gaMmO5To",
      "include_colab_link": true
    },
    "kernelspec": {
      "name": "python3",
      "display_name": "Python 3"
    },
    "language_info": {
      "name": "python"
    }
  },
  "cells": [
    {
      "cell_type": "markdown",
      "metadata": {
        "id": "view-in-github",
        "colab_type": "text"
      },
      "source": [
        "<a href=\"https://colab.research.google.com/github/roenseed/Script-Save-Roen/blob/main/Number_guess_game.ipynb\" target=\"_parent\"><img src=\"https://colab.research.google.com/assets/colab-badge.svg\" alt=\"Open In Colab\"/></a>"
      ]
    },
    {
      "cell_type": "code",
      "execution_count": null,
      "metadata": {
        "id": "1dka4li3DKBE"
      },
      "outputs": [],
      "source": [
        "import random\n",
        "\n",
        "lowest_num = 1\n",
        "highest_num = 99\n",
        "answer = random.randint(lowest_num, highest_num)\n",
        "guesses = 0\n",
        "is_running = True\n",
        "\n",
        "print(\"Python number guessing game\")\n",
        "print(f\"Select number between {lowest_num} and {highest_num}\")\n",
        "\n",
        "while is_running:\n",
        "\n",
        "    guess = input(\"Enter your guess: \")\n",
        "\n",
        "    if guess.isdigit():\n",
        "        guess = int(guess)\n",
        "        guesses +=1\n",
        "\n",
        "        if guess < lowest_num or guess > highest_num:\n",
        "            print(\"That number is out of range\")\n",
        "            print(f\"Please select a number between {lowest_num} and {highest_num}\")\n",
        "        elif guess < answer:\n",
        "            print(\"Too low! Try again!\")\n",
        "        elif guess > answer:\n",
        "            print(\"Too high! Try again!\")\n",
        "        else:\n",
        "            print(f\"CORRECT! The answer was {answer}\")\n",
        "            print(f\"Number of guesses: {guesses}\")\n",
        "            is_running = False\n",
        "    else:\n",
        "        print(\"Invalid guess\")\n",
        "        print(f\"Please select a number between {lowest_num} and {highest_num}\")\n",
        "\n"
      ]
    }
  ]
}