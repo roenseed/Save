{
  "nbformat": 4,
  "nbformat_minor": 0,
  "metadata": {
    "colab": {
      "provenance": [],
      "authorship_tag": "ABX9TyMNSG/V5H2pPDYpk2IaGCvP",
      "include_colab_link": true
    },
    "kernelspec": {
      "name": "python3",
      "display_name": "Python 3"
    },
    "language_info": {
      "name": "python"
    }
  },
  "cells": [
    {
      "cell_type": "markdown",
      "metadata": {
        "id": "view-in-github",
        "colab_type": "text"
      },
      "source": [
        "<a href=\"https://colab.research.google.com/github/roenseed/python-save-script/blob/main/game_dice.ipynb\" target=\"_parent\"><img src=\"https://colab.research.google.com/assets/colab-badge.svg\" alt=\"Open In Colab\"/></a>"
      ]
    },
    {
      "cell_type": "code",
      "execution_count": 1,
      "metadata": {
        "colab": {
          "base_uri": "https://localhost:8080/"
        },
        "id": "bi0ars7sbvC6",
        "outputId": "80a6d1b5-3f5c-4598-c63c-7c85e59007f1"
      },
      "outputs": [
        {
          "output_type": "stream",
          "name": "stdout",
          "text": [
            "How many dice (1-6)?: 7\n",
            "Please enter a number between 1 and 6.\n",
            "How many dice (1-6)?: 10\n",
            "Please enter a number between 1 and 6.\n",
            "How many dice (1-6)?: sdfsdfsdf\n",
            "Invalid input. Please enter a numeric value.\n",
            "How many dice (1-6)?: 2\n",
            "┌─────────┐ ┌─────────┐ \n",
            "│ ●     ● │ │ ●       │ \n",
            "│ ●     ● │ │         │ \n",
            "│ ●     ● │ │       ● │ \n",
            "└─────────┘ └─────────┘ \n",
            "Total: 8\n"
          ]
        }
      ],
      "source": [
        "# Author: Charoen Kasetruengphol\n",
        "\n",
        "import random\n",
        "\n",
        "# Dice art\n",
        "dice_art = {\n",
        "    1: (\"┌─────────┐\",\n",
        "        \"│         │\",\n",
        "        \"│    ●    │\",\n",
        "        \"│         │\",\n",
        "        \"└─────────┘\"),\n",
        "    2: (\"┌─────────┐\",\n",
        "        \"│ ●       │\",\n",
        "        \"│         │\",\n",
        "        \"│       ● │\",\n",
        "        \"└─────────┘\"),\n",
        "    3: (\"┌─────────┐\",\n",
        "        \"│ ●       │\",\n",
        "        \"│    ●    │\",\n",
        "        \"│       ● │\",\n",
        "        \"└─────────┘\"),\n",
        "    4: (\"┌─────────┐\",\n",
        "        \"│ ●     ● │\",\n",
        "        \"│         │\",\n",
        "        \"│ ●     ● │\",\n",
        "        \"└─────────┘\"),\n",
        "    5: (\"┌─────────┐\",\n",
        "        \"│ ●     ● │\",\n",
        "        \"│    ●    │\",\n",
        "        \"│ ●     ● │\",\n",
        "        \"└─────────┘\"),\n",
        "    6: (\"┌─────────┐\",\n",
        "        \"│ ●     ● │\",\n",
        "        \"│ ●     ● │\",\n",
        "        \"│ ●     ● │\",\n",
        "        \"└─────────┘\")\n",
        "}\n",
        "\n",
        "dice = []\n",
        "total = 0\n",
        "running = True\n",
        "\n",
        "# Input validation with a while loop\n",
        "while True:\n",
        "    try:\n",
        "        num_of_dice = int(input(\"How many dice (1-6)?: \"))\n",
        "        if 1 <= num_of_dice <= 6:\n",
        "            break  # Exit loop if input is a valid number between 1 and 6\n",
        "        else:\n",
        "            print(\"Please enter a number between 1 and 6.\")\n",
        "    except ValueError:\n",
        "        print(\"Invalid input. Please enter a numeric value.\")\n",
        "\n",
        "# Roll the dice and generate results\n",
        "for die in range(num_of_dice):\n",
        "    dice.append(random.randint(1, 6))\n",
        "\n",
        "# Display the dice\n",
        "for line in range(5):\n",
        "    for die in dice:\n",
        "        print(dice_art.get(die)[line], end=\" \")\n",
        "    print()\n",
        "\n",
        "# Calculate and display the total\n",
        "for die in dice:\n",
        "    total += die\n",
        "print(f\"Total: {total}\")"
      ]
    }
  ]
}